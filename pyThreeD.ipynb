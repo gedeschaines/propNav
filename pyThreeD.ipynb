{
 "cells": [
  {
   "cell_type": "raw",
   "id": "choice-tuner",
   "metadata": {},
   "source": [
    "FILE:  pyThreeD.ipynb\n",
    "DATE:  12 DEC 2023\n",
    "AUTH:  G. E. Deschaines\n",
    "DESC:  Three dimensional (3D) drawing of objects defined as collections\n",
    "       of polygons.\n",
    "REFS:\n",
    "     \n",
    "  [1] This Python script was refactored from threeD.c available at:\n",
    "      https://github.com/gedeschaines/threeD/blob/master/src/threeD.c\n",
    "\n",
    "Disclaimer:  See DISCLAIMER file."
   ]
  },
  {
   "cell_type": "code",
   "execution_count": null,
   "id": "attractive-shield",
   "metadata": {},
   "outputs": [],
   "source": [
    "import sys\n",
    "import warnings\n",
    "\n",
    "warnings.simplefilter(action='ignore', category=FutureWarning)\n",
    "\n",
    "import matplotlib\n",
    "\n",
    "Backend = 'Qt5Agg'  # to display rendering in desktop window.\n",
    "#Backend = 'nbAgg'   # to display rendering animation inline.\n",
    "matplotlib.use(Backend)\n",
    "\n",
    "if Backend == 'nbAgg':\n",
    "    %matplotlib widget\n",
    "\n",
    "# Note: If 'nbAgg' is specified for the Backend and a JavaScript \"IPython is not defined\" \n",
    "#       error message appears below, then refer to the following for possible resolution.\n",
    "#       https://stackoverflow.com/questions/51922480/javascript-error-ipython-is-not-defined-in-jupyterlab\n",
    "\n",
    "import matplotlib.pyplot as plt"
   ]
  },
  {
   "cell_type": "code",
   "execution_count": null,
   "id": "floppy-terrorism",
   "metadata": {},
   "outputs": [],
   "source": [
    "global fig      # Instantiated matplotlib pyplot figure\n",
    "global draw3D   # Instantiated Draw3D object\n",
    "global started  # Draw3D.MainLoop method started flag\n",
    "\n",
    "from draw3D import Draw3D\n",
    "\n",
    "started = False"
   ]
  },
  {
   "cell_type": "code",
   "execution_count": null,
   "id": "tropical-people",
   "metadata": {},
   "outputs": [],
   "source": [
    "def onClick(event):\n",
    "    \"\"\"\n",
    "    Mouse button pressed handler\n",
    "    \"\"\"\n",
    "    global fig\n",
    "    global draw3D\n",
    "    global started\n",
    "    \n",
    "    #b = event.button\n",
    "    #x = event.xdata\n",
    "    #y = event.ydata\n",
    "    if not started:\n",
    "       started = True\n",
    "       draw3D.MainLoop()\n",
    "       if draw3D.doneflag:\n",
    "           fig.clear()\n",
    "           plt.close(fig)\n",
    "           sys.exit()\n",
    "       started = False"
   ]
  },
  {
   "cell_type": "code",
   "execution_count": null,
   "id": "breathing-trinidad",
   "metadata": {},
   "outputs": [],
   "source": [
    "# Set image save flag and rate (FPS).\n",
    "\n",
    "img_Save = False  # Save rendered images as PNG files\n",
    "img_FPS = 50;     # (semi-colon is hold over from threeD.c)\n",
    "\n",
    "# Set TXYZ case specifics.\n",
    "\n",
    "CaseId = \"1243\"\n",
    "File   = \"./out/TXYZ.OUT.\" + CaseId\n",
    "title  = \"pyThreeD - \" + File"
   ]
  },
  {
   "cell_type": "code",
   "execution_count": null,
   "id": "efficient-bumper",
   "metadata": {},
   "outputs": [],
   "source": [
    "# Instantiate a matplotlib pyplot figure.\n",
    "# Note: Figure 1 for displayimg rendering animation will\n",
    "#       be presented immediately below this Cell if the\n",
    "#       Backend = 'nbAgg' statement in Cell [1] above\n",
    "#       is uncommented, otherwise a Figure window will be\n",
    "#       opened on the desktop for rendering animation.\n",
    "\n",
    "#fig = plt.figure(figsize=(6.0,6.0), dpi=100.0)     # 465x462 viewport\n",
    "fig = plt.figure(figsize=(8.0,6.0), dpi=100.0)     # 620x462 viewport\n",
    "#fig = plt.figure(figsize=(8.0,8.0), dpi=100.0)     # 620x616 viewport\n",
    "#fig = plt.figure(figsize=(7.74,7.78), dpi=100.0)   # 600x599 viewport\n",
    "#fig = plt.figure(figsize=(10.0,8.0), dpi=100.0)    # 775x616 viewport\n",
    "#fig = plt.figure(figsize=(10.32,7.80), dpi=100.0)  # 800x601 viewport\n",
    "\n",
    "try:\n",
    "    fig.set_tight_layout(True)\n",
    "except:\n",
    "    fig.set_layout_engine('tight')"
   ]
  },
  {
   "cell_type": "code",
   "execution_count": null,
   "id": "artificial-arabic",
   "metadata": {},
   "outputs": [],
   "source": [
    "# Specify plotting layout and parameters.\n",
    "\n",
    "ax = fig.add_subplot(111, autoscale_on=False, animated=False)\n",
    "ax.set_title(title)\n",
    "ax.set_xticks([])\n",
    "ax.set_yticks([])\n",
    "ax.set_aspect('equal')\n",
    "bbox = ax.bbox.get_points()\n",
    "w = round(bbox[1,0] - bbox[0,0])\n",
    "h = round(bbox[1,1] - bbox[0,1])\n",
    "ax.set_xlim(0.0, w)\n",
    "ax.set_ylim(h, 0.0)\n",
    "ax.set_facecolor('#d8dcd6')  # light gray\n",
    "fig.canvas.draw()"
   ]
  },
  {
   "cell_type": "code",
   "execution_count": null,
   "id": "african-flight",
   "metadata": {},
   "outputs": [],
   "source": [
    "# Instantiate a Draw3D object.\n",
    "\n",
    "draw3D = Draw3D(txyzFile=File, w=w, h=h, fig=fig, ax=ax, \n",
    "                imgSave=img_Save, imgFPS=img_FPS)\n",
    "\n",
    "# Load object shape polygon data.\n",
    "\n",
    "draw3D.ReadPolyData()"
   ]
  },
  {
   "cell_type": "code",
   "execution_count": null,
   "id": "unique-cliff",
   "metadata": {},
   "outputs": [],
   "source": [
    "# Assign mouse button press handler.\n",
    "\n",
    "cidbtn = fig.canvas.mpl_connect('button_press_event', onClick)"
   ]
  },
  {
   "cell_type": "code",
   "execution_count": null,
   "id": "funky-drinking",
   "metadata": {},
   "outputs": [],
   "source": [
    "if Backend != 'nbAgg':\n",
    "    # Assign GUI key press event handler.\n",
    "    cidkey = fig.canvas.mpl_connect('key_press_event', draw3D.onPress)\n",
    "    \n",
    "    # Present mouse click and key press instructions:\n",
    "    print(\"With cursor in the displayed Figure, press a mouse button\")\n",
    "    print(\"to initiate threeD animation. If animation is exited or has\")\n",
    "    print(\"completed, close figure to terminate this program or press\")\n",
    "    print(\"a mouse button to restart animation. During threeD program\")\n",
    "    print(\"animation the following key presses are recognized:\\n\")\n",
    "    print(\"Press T key to toggle field-of-view towards target.\")\n",
    "    print(\"Press M key to toggle field-of-view towards missile.\")\n",
    "    print(\"Press H key to toggle field-of-view along missile heading.\")\n",
    "    print(\"Press Z key to reset zoom to one.\")\n",
    "    print(\"Press Up Arrow key to increase zoom.\")\n",
    "    print(\"Press Down Arrow key to decrease zoom.\")\n",
    "    print(\"Press Left Arrow key to slow animation down by 50 msec increments.\")\n",
    "    print(\"Press Right Arrow key to speed animation up by 50 msec increments.\")\n",
    "    print(\"Press Space key to toggle pause/unpause.\")\n",
    "    print(\"Press X key to exit animation (press a mouse button to restart).\")\n",
    "    print(\"Press Esc key to close Figure and exit program.\")\n",
    "    \n",
    "    # Display figure window for rendering and wait for\n",
    "    # user mouse click and key presses...    \n",
    "    plt.show(block=True)\n",
    "\n",
    "    # Execution terminated, delete draw3D object.\n",
    "    del draw3D\n",
    "    \n",
    "else:\n",
    "    print(\"Click in the plotting region of Figure 1 presented\")\n",
    "    print(\"immediately below Cell [5] above to start or replay\")\n",
    "    print(\"rendering animation.\\n\")\n",
    "    print(\"Inline rendering animation cannot be controlled with\")\n",
    "    print(\"key presses as they are intercepted and processed by\")\n",
    "    print(\"this Jupyter notebook and matplotlib widget backend.\")"
   ]
  }
 ],
 "metadata": {
  "kernelspec": {
   "display_name": "Python 3 (ipykernel)",
   "language": "python",
   "name": "python3"
  },
  "language_info": {
   "codemirror_mode": {
    "name": "ipython",
    "version": 3
   },
   "file_extension": ".py",
   "mimetype": "text/x-python",
   "name": "python",
   "nbconvert_exporter": "python",
   "pygments_lexer": "ipython3",
   "version": "3.9.18"
  }
 },
 "nbformat": 4,
 "nbformat_minor": 5
}
