{
 "cells": [
  {
   "cell_type": "raw",
   "id": "fabulous-terminal",
   "metadata": {},
   "source": [
    "FILE:  pyThreeD.ipynb\n",
    "DATE:  12 DEC 2023\n",
    "AUTH:  G. E. Deschaines\n",
    "DESC:  Three dimensional (3D) drawing of objects defined as collections\n",
    "       of polygons.\n",
    "REFS:\n",
    "     \n",
    "  [1] This Python script was refactored from threeD.c available at:\n",
    "      https://github.com/gedeschaines/threeD/blob/master/src/threeD.c\n",
    "\n",
    "Disclaimer:  See DISCLAIMER file."
   ]
  },
  {
   "cell_type": "code",
   "execution_count": 1,
   "id": "equipped-scout",
   "metadata": {},
   "outputs": [],
   "source": [
    "import sys\n",
    "import warnings\n",
    "\n",
    "warnings.simplefilter(action='ignore', category=FutureWarning)\n",
    "\n",
    "import matplotlib\n",
    "matplotlib.use('Qt5Agg')\n",
    "\n",
    "import matplotlib.pyplot as plt"
   ]
  },
  {
   "cell_type": "code",
   "execution_count": 2,
   "id": "automatic-franchise",
   "metadata": {},
   "outputs": [],
   "source": [
    "global fig      # Instantiated matplotlib pyplot figure\n",
    "global draw3D   # Instantiated Draw3D object\n",
    "global started  # Draw3D.MainLoop method started flag\n",
    "\n",
    "from draw3D import Draw3D\n",
    "\n",
    "started = False"
   ]
  },
  {
   "cell_type": "code",
   "execution_count": 3,
   "id": "removable-vector",
   "metadata": {},
   "outputs": [],
   "source": [
    "def onClick(event):\n",
    "    \"\"\"\n",
    "    Mouse button pressed handler\n",
    "    \"\"\"\n",
    "    global fig\n",
    "    global draw3D\n",
    "    global started\n",
    "    \n",
    "    #b = event.button\n",
    "    #x = event.xdata\n",
    "    #y = event.ydata\n",
    "    if not started:\n",
    "       started = True\n",
    "       draw3D.MainLoop()\n",
    "       if draw3D.doneflag:\n",
    "           fig.clear()\n",
    "           plt.close(fig)\n",
    "           sys.exit()\n",
    "       started = False\n"
   ]
  },
  {
   "cell_type": "code",
   "execution_count": 4,
   "id": "asian-somalia",
   "metadata": {},
   "outputs": [],
   "source": [
    "# Set image save flag and rate (FPS).\n",
    "\n",
    "img_Save = False  # Save rendered images as PNG files\n",
    "img_FPS = 50;     # (semi-colon is hold over from threeD.c)\n",
    "\n",
    "# Set TXYZ case specifics.\n",
    "\n",
    "CaseId = \"1243\"\n",
    "File   = \"./out/TXYZ.OUT.\" + CaseId\n",
    "title  = \"pyThreeD - \" + File"
   ]
  },
  {
   "cell_type": "code",
   "execution_count": 5,
   "id": "industrial-exhibit",
   "metadata": {},
   "outputs": [],
   "source": [
    "# Instantiate a matplotlib pyplot figure.\n",
    "\n",
    "#fig = plt.figure(figsize=(6.0,6.0), dpi=100.0)     # 465x462 viewport\n",
    "fig = plt.figure(figsize=(8.0,6.0), dpi=100.0)     # 620x462 viewport\n",
    "#fig = plt.figure(figsize=(8.0,8.0), dpi=100.0)     # 620x616 viewport\n",
    "#fig = plt.figure(figsize=(7.74,7.78), dpi=100.0)   # 600x599 viewport\n",
    "#fig = plt.figure(figsize=(10.0,8.0), dpi=100.0)    # 775x616 viewport\n",
    "#fig = plt.figure(figsize=(10.32,7.80), dpi=100.0)  # 800x601 viewport"
   ]
  },
  {
   "cell_type": "code",
   "execution_count": 6,
   "id": "purple-currency",
   "metadata": {},
   "outputs": [],
   "source": [
    "# Specify plotting layout and parameters.\n",
    "\n",
    "ax = fig.add_subplot(111, autoscale_on=False, animated=False)\n",
    "ax.set_title(title)\n",
    "ax.set_xticks([])\n",
    "ax.set_yticks([])\n",
    "ax.set_aspect('equal')\n",
    "bbox = ax.bbox.get_points()\n",
    "w = round(bbox[1,0] - bbox[0,0])\n",
    "h = round(bbox[1,1] - bbox[0,1])\n",
    "#print(\"w= %d, h= %d\" % (w, h))\n",
    "ax.set_xlim(0.0, w)\n",
    "ax.set_ylim(h, 0.0)\n",
    "ax.set_facecolor('#d8dcd6')  # light gray\n",
    "fig.canvas.draw()"
   ]
  },
  {
   "cell_type": "code",
   "execution_count": 7,
   "id": "final-plane",
   "metadata": {},
   "outputs": [],
   "source": [
    "# Instantiate a Draw3D object.\n",
    "\n",
    "draw3D = Draw3D(txyzFile=File, w=w, h=h, fig=fig, ax=ax, \n",
    "                imgSave=img_Save, imgFPS=img_FPS)\n",
    "\n",
    "# Load object shape polygon data.\n",
    "\n",
    "draw3D.ReadPolyData()"
   ]
  },
  {
   "cell_type": "code",
   "execution_count": 8,
   "id": "loved-infrastructure",
   "metadata": {},
   "outputs": [],
   "source": [
    "# Assign mouse button press handler.\n",
    "\n",
    "cidbtn = fig.canvas.mpl_connect('button_press_event', onClick)\n",
    "\n",
    "# Assign key press event handler.\n",
    "\n",
    "cidkey = fig.canvas.mpl_connect('key_press_event', draw3D.onPress)"
   ]
  },
  {
   "cell_type": "code",
   "execution_count": 9,
   "id": "marine-science",
   "metadata": {},
   "outputs": [
    {
     "name": "stdout",
     "output_type": "stream",
     "text": [
      "With cursor in the displayed Figure, press a mouse button\n",
      "to initiate threeD animation. If animation is exited or has\n",
      "completed, close figure to terminate this program or press\n",
      "a mouse button to restart animation. During threeD program\n",
      "animation the following key presses are recognized:\n",
      "\n",
      "Press t key to toggle field-of-view towards target.\n",
      "Press m key to toggle field-of-view towards missile.\n",
      "Press h key to toggle field-of-view along missile heading.\n",
      "Press z key to reset zoom to one.\n",
      "Press up arrow key to increase zoom.\n",
      "Press down arrow key to decrease zoom.\n",
      "Press left arrow key to slow animation down by 50 msec increments.\n",
      "Press right arrow key to speed animation up by 50 msec increments.\n",
      "Press Space key to toggle pause/unpause.\n",
      "Press x key to exit animation (press a mouse button to restart).\n",
      "Press Esc key to exit program.\n"
     ]
    }
   ],
   "source": [
    "# Present instructions, then display figure window for rendering. \n",
    "\n",
    "print(\"With cursor in the displayed Figure, press a mouse button\")\n",
    "print(\"to initiate threeD animation. If animation is exited or has\")\n",
    "print(\"completed, close figure to terminate this program or press\")\n",
    "print(\"a mouse button to restart animation. During threeD program\")\n",
    "print(\"animation the following key presses are recognized:\\n\")\n",
    "\n",
    "print(\"Press t key to toggle field-of-view towards target.\")\n",
    "print(\"Press m key to toggle field-of-view towards missile.\")\n",
    "print(\"Press h key to toggle field-of-view along missile heading.\")\n",
    "print(\"Press z key to reset zoom to one.\")\n",
    "print(\"Press up arrow key to increase zoom.\")\n",
    "print(\"Press down arrow key to decrease zoom.\")\n",
    "print(\"Press left arrow key to slow animation down by 50 msec increments.\")\n",
    "print(\"Press right arrow key to speed animation up by 50 msec increments.\")\n",
    "print(\"Press Space key to toggle pause/unpause.\")\n",
    "print(\"Press x key to exit animation (press a mouse button to restart).\")\n",
    "print(\"Press Esc key to exit program.\")\n",
    "\n",
    "plt.show(block=True)"
   ]
  },
  {
   "cell_type": "code",
   "execution_count": 10,
   "id": "worldwide-excerpt",
   "metadata": {},
   "outputs": [],
   "source": [
    "# Execution terminated, delete draw3D object and exit.\n",
    "   \n",
    "del draw3D"
   ]
  },
  {
   "cell_type": "code",
   "execution_count": null,
   "id": "fitted-arkansas",
   "metadata": {},
   "outputs": [],
   "source": []
  }
 ],
 "metadata": {
  "kernelspec": {
   "display_name": "Python 3 (ipykernel)",
   "language": "python",
   "name": "python3"
  },
  "language_info": {
   "codemirror_mode": {
    "name": "ipython",
    "version": 3
   },
   "file_extension": ".py",
   "mimetype": "text/x-python",
   "name": "python",
   "nbconvert_exporter": "python",
   "pygments_lexer": "ipython3",
   "version": "3.9.18"
  }
 },
 "nbformat": 4,
 "nbformat_minor": 5
}
